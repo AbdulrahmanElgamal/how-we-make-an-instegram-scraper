{
 "cells": [
  {
   "cell_type": "code",
   "execution_count": 1,
   "id": "4136213e",
   "metadata": {},
   "outputs": [],
   "source": [
    "#importing libraries\n",
    "from selenium import webdriver\n",
    "from selenium.webdriver.common.keys import Keys\n",
    "from selenium.webdriver.common.by import By\n",
    "from selenium.webdriver.support import expected_conditions as EC\n",
    "from selenium.webdriver.support.wait import WebDriverWait\n"
   ]
  },
  {
   "cell_type": "markdown",
   "id": "0f431e7f",
   "metadata": {},
   "source": [
    "Driver initilalization Basics:"
   ]
  },
  {
   "cell_type": "code",
   "execution_count": 2,
   "id": "6003af86",
   "metadata": {},
   "outputs": [],
   "source": [
    "#Firefox\n",
    "#driver = webdriver.firefox('')\n",
    "\n",
    "#Chrome\n",
    "driver = webdriver.Chrome('Desktop/chromedriver.exe')\n",
    "\n"
   ]
  },
  {
   "cell_type": "markdown",
   "id": "910576fa",
   "metadata": {},
   "source": [
    "open the webpage with selenium"
   ]
  },
  {
   "cell_type": "code",
   "execution_count": 3,
   "id": "e8161acd",
   "metadata": {},
   "outputs": [],
   "source": [
    "driver.get('https://www.instagram.com')\n"
   ]
  },
  {
   "cell_type": "markdown",
   "id": "f7b446ea",
   "metadata": {},
   "source": [
    "Target UserName:الحساب الهدف"
   ]
  },
  {
   "cell_type": "code",
   "execution_count": 4,
   "id": "e6393164",
   "metadata": {},
   "outputs": [
    {
     "ename": "SyntaxError",
     "evalue": "invalid syntax (<ipython-input-4-34a3b53b2a8e>, line 1)",
     "output_type": "error",
     "traceback": [
      "\u001b[1;36m  File \u001b[1;32m\"<ipython-input-4-34a3b53b2a8e>\"\u001b[1;36m, line \u001b[1;32m1\u001b[0m\n\u001b[1;33m    username = WebDriverWait(driver,10).until(EC.element_to_be_clickable((By.CSS_SELECTOR,'input[name= 'username']')))\u001b[0m\n\u001b[1;37m                                                                                                        ^\u001b[0m\n\u001b[1;31mSyntaxError\u001b[0m\u001b[1;31m:\u001b[0m invalid syntax\n"
     ]
    }
   ],
   "source": [
    "username = WebDriverWait(driver,10).until(EC.element_to_be_clickable((By.CSS_SELECTOR,'input[name= 'username']')))"
   ]
  },
  {
   "cell_type": "code",
   "execution_count": null,
   "id": "abfede23",
   "metadata": {},
   "outputs": [],
   "source": [
    "password = WebDriverWait(driver,10).until(EC.element_to_be_clickable((By.CSS_SELECTOR,'input[name= 'password']')))"
   ]
  },
  {
   "cell_type": "markdown",
   "id": "8ab7b3bd",
   "metadata": {},
   "source": [
    "Enter username & password"
   ]
  },
  {
   "cell_type": "code",
   "execution_count": null,
   "id": "c02abe53",
   "metadata": {},
   "outputs": [],
   "source": [
    "username.Clear()\n",
    "username.Send_keys('eljamal23')\n",
    "password.Clear()\n",
    "password.Send_keys('1q2w3e4r5t6y7u8i9o@')"
   ]
  },
  {
   "cell_type": "markdown",
   "id": "a59a4a5e",
   "metadata": {},
   "source": [
    "Target The Login Button & Click it:\n"
   ]
  },
  {
   "cell_type": "code",
   "execution_count": null,
   "id": "fbd3fd32",
   "metadata": {},
   "outputs": [],
   "source": [
    "button = WebDriverWait(driver,2).until(EC.element_to_be_clickable((By.CSS_SELECTOR,'button[type ='submit']'))).Click()"
   ]
  },
  {
   "cell_type": "markdown",
   "id": "ccc0b586",
   "metadata": {},
   "source": [
    "remove the cookies"
   ]
  },
  {
   "cell_type": "code",
   "execution_count": null,
   "id": "2200064c",
   "metadata": {},
   "outputs": [],
   "source": [
    "remove = WebDriverWait(driver,10).until(EC.element_to_be_clickable((By.XPath,'//button[contains(text(),\"notnow\")]'))).Click()\n",
    "remove2 = WebDriverWait(driver,10).until(EC.element_to_be_clickable((By.XPath,'//button[contains(text(),\"notnow\")]'))).Click()"
   ]
  },
  {
   "cell_type": "markdown",
   "id": "58ef2e45",
   "metadata": {},
   "source": [
    "search Keywords:"
   ]
  },
  {
   "cell_type": "code",
   "execution_count": null,
   "id": "93e5efa4",
   "metadata": {},
   "outputs": [],
   "source": [
    "import time"
   ]
  },
  {
   "cell_type": "code",
   "execution_count": null,
   "id": "a29b9b16",
   "metadata": {},
   "outputs": [],
   "source": [
    "#target the search input field:\n",
    "\n",
    "searchbox = WebDriverWait(driver,10).until(EC.element_to_be_clickable((By.XPath,'//input[@placeholder ='search')]')))\n",
    "searchbox.Clear()"
   ]
  },
  {
   "cell_type": "code",
   "execution_count": null,
   "id": "8b8e5375",
   "metadata": {},
   "outputs": [],
   "source": [
    "# search for hashtags:\n",
    "\n",
    "keyword = '#Car'\n",
    "searchbox.Send_Keys(keyword)\n"
   ]
  },
  {
   "cell_type": "code",
   "execution_count": null,
   "id": "433b9726",
   "metadata": {},
   "outputs": [],
   "source": [
    "#wating for 5 seconds:\n",
    "\n",
    "time.sleep(5)\n",
    "searchbox.Send_Keys(Keys.Enter)\n",
    "\n"
   ]
  },
  {
   "cell_type": "code",
   "execution_count": null,
   "id": "1c6674bc",
   "metadata": {},
   "outputs": [],
   "source": [
    "#Scroll down(moving the page) to scrole more images:\n",
    "\n",
    "driver.execute_script(\"window.ScrollTo(0,4000)\")"
   ]
  },
  {
   "cell_type": "code",
   "execution_count": null,
   "id": "08bf59ea",
   "metadata": {},
   "outputs": [],
   "source": [
    "#target all images on the page:\n",
    "\n",
    "images = driver.find_element_by_tag_name('imge')\n",
    "images = [image.get_attribute('Src')for image in images]\n",
    "images = images[:-2]\n",
    "print('The Number Of Scraped Image : ',len(images))"
   ]
  },
  {
   "cell_type": "code",
   "execution_count": null,
   "id": "f8430535",
   "metadata": {},
   "outputs": [],
   "source": [
    "#Saved images in Computer:\n",
    "# هنعمل ملف جديد على الجهاز لحفظ الصور فيه\n",
    "#استدعاء مكتبات خاصة بالتحميل وتحديد المسار\n",
    "\n",
    "import os\n",
    "import wget\n",
    "\n",
    "path =os.getcwd(\"the path of my new folder\")\n",
    "path =os.path.join(path,keyword[1:] +\"s\")\n"
   ]
  },
  {
   "cell_type": "code",
   "execution_count": null,
   "id": "46ec9f0a",
   "metadata": {},
   "outputs": [],
   "source": [
    "#Create the directory:\n",
    "\n",
    "os.mkdir(path)\n",
    "path\n",
    "\n",
    "counter = 0\n",
    "for image in images :\n",
    "    save_as = os.path.join(path,keyword[1:] + str(counter) + 'jpg')\n",
    "    wget.download(image,save_as)\n",
    "    counter +=1\n",
    "    "
   ]
  }
 ],
 "metadata": {
  "kernelspec": {
   "display_name": "Python 3",
   "language": "python",
   "name": "python3"
  },
  "language_info": {
   "codemirror_mode": {
    "name": "ipython",
    "version": 3
   },
   "file_extension": ".py",
   "mimetype": "text/x-python",
   "name": "python",
   "nbconvert_exporter": "python",
   "pygments_lexer": "ipython3",
   "version": "3.8.8"
  }
 },
 "nbformat": 4,
 "nbformat_minor": 5
}
